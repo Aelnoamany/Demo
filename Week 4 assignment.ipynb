{
    "cells": [
        {
            "cell_type": "markdown",
            "metadata": {
                "collapsed": true
            },
            "source": "# My Jupyter Notebook on IBM Watson Studio"
        },
        {
            "cell_type": "markdown",
            "metadata": {},
            "source": "**Ahmed Elnoamany**\n<br>\nProduct Manager"
        },
        {
            "cell_type": "markdown",
            "metadata": {},
            "source": "*Data Science is evolving quickly because of the increasing demand of data around the world. Data scientists have a wide variety of skill sets that can leverage data and information to help organizations to make better strategic decisions.*"
        },
        {
            "cell_type": "markdown",
            "metadata": {},
            "source": "### the objective of this code to show a simple mathmatic formula "
        },
        {
            "cell_type": "code",
            "execution_count": 2,
            "metadata": {},
            "outputs": [
                {
                    "data": {
                        "text/plain": "4"
                    },
                    "execution_count": 2,
                    "metadata": {},
                    "output_type": "execute_result"
                }
            ],
            "source": "1+3"
        },
        {
            "cell_type": "markdown",
            "metadata": {},
            "source": " horizontal rule, bulleted list, numbered list, tables, hyperlinks, images, code/syntax highlighting, blocked quotes, strikethrough.\n \n \n 1. Data\n 2. Science \n 3. Assignment \n \n ***\n \n https://youtu.be/B-cvv6S37zI\n \n ***\n ~~no facebook access~~\n \n ***\n |Left |Center|Right|\n|:-----|:----:|----:|\n|1 |A |C |\n|2 |B |D |\n "
        },
        {
            "cell_type": "code",
            "execution_count": null,
            "metadata": {},
            "outputs": [],
            "source": ""
        }
    ],
    "metadata": {
        "kernelspec": {
            "display_name": "Python 3.6",
            "language": "python",
            "name": "python3"
        },
        "language_info": {
            "codemirror_mode": {
                "name": "ipython",
                "version": 3
            },
            "file_extension": ".py",
            "mimetype": "text/x-python",
            "name": "python",
            "nbconvert_exporter": "python",
            "pygments_lexer": "ipython3",
            "version": "3.6.9"
        }
    },
    "nbformat": 4,
    "nbformat_minor": 1
}